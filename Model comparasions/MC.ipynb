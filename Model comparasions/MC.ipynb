{
 "cells": [
  {
   "attachments": {},
   "cell_type": "markdown",
   "metadata": {},
   "source": [
    "El propósito principal del ejercicio es evaluar la calidad entre los modelos de ML y no ML propuestos en la iniciativa aplicados en la elasticidad de la demanda. \n",
    "\n",
    "Los modelos propuestos son:\n",
    "\n",
    "1. Regresión lineal simple\n",
    "2. Modelo de relación lineal sin ML\n",
    "3. Modelo ARIMA \n",
    "4. Regresión lineal múltiple\n",
    "5. Random Forrest\n",
    ".\n",
    ".\n",
    ".\n",
    "+TBD \n",
    "\n",
    "Los datos a manejar serán los mismos para todos los modelos y se aplicará el mismo preprocesamiento de la información"
   ]
  },
  {
   "cell_type": "code",
   "execution_count": null,
   "metadata": {},
   "outputs": [],
   "source": []
  }
 ],
 "metadata": {
  "kernelspec": {
   "display_name": "Python 3",
   "language": "python",
   "name": "python3"
  },
  "language_info": {
   "name": "python",
   "version": "3.9.13"
  },
  "orig_nbformat": 4,
  "vscode": {
   "interpreter": {
    "hash": "984a564026dd35cbfded0b0dd85ea1a6bedc2039b50bd3f08d85f25f33254b71"
   }
  }
 },
 "nbformat": 4,
 "nbformat_minor": 2
}
