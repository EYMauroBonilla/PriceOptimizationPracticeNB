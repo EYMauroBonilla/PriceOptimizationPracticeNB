{
 "cells": [
  {
   "cell_type": "code",
   "execution_count": 1,
   "id": "b5cbcc96",
   "metadata": {},
   "outputs": [],
   "source": [
    "%matplotlib inline\n",
    "import numpy as np\n",
    "import pandas as pd\n",
    "import matplotlib.pyplot as plt\n",
    "from datetime import datetime\n",
    "from statsmodels.formula.api import ols\n",
    "from statsmodels.graphics.regressionplots import plot_partregress_grid\n",
    "from priceloop_api.utils import DefaultConfiguration, read_nocode, to_nocode"
   ]
  },
  {
   "cell_type": "code",
   "execution_count": 2,
   "id": "8e24b63a",
   "metadata": {},
   "outputs": [],
   "source": [
    "\"\"\"\n",
    "This is a Demo account, usually you should not git your username/password\n",
    "but store in a .env file. In the future, we will provide API keys instead\n",
    "of username/password\n",
    "\"\"\"\n",
    "configuration = DefaultConfiguration.with_user_credentials(\"nocode_ml_demo@priceloop.ai\", \"a9r*Gjh*RKmAua\")"
   ]
  },
  {
   "cell_type": "code",
   "execution_count": 3,
   "id": "02d407c4",
   "metadata": {},
   "outputs": [],
   "source": [
    "# load data from our nocode platform\n",
    "category_data = read_nocode(\"cafe___sell_meta_data\", configuration, limit=20, offset=0)\n",
    "transactions_data = read_nocode(\"cafe___transaction___store\", configuration, limit=6000, offset=0)"
   ]
  },
  {
   "cell_type": "code",
   "execution_count": 4,
   "id": "c7f6d7f9",
   "metadata": {},
   "outputs": [
    {
     "data": {
      "text/html": [
       "<div>\n",
       "<style scoped>\n",
       "    .dataframe tbody tr th:only-of-type {\n",
       "        vertical-align: middle;\n",
       "    }\n",
       "\n",
       "    .dataframe tbody tr th {\n",
       "        vertical-align: top;\n",
       "    }\n",
       "\n",
       "    .dataframe thead th {\n",
       "        text-align: right;\n",
       "    }\n",
       "</style>\n",
       "<table border=\"1\" class=\"dataframe\">\n",
       "  <thead>\n",
       "    <tr style=\"text-align: right;\">\n",
       "      <th></th>\n",
       "      <th>SELL_ID</th>\n",
       "      <th>SELL_CATEGORY</th>\n",
       "      <th>ITEM_ID</th>\n",
       "      <th>ITEM_NAME</th>\n",
       "      <th>COSTS</th>\n",
       "      <th>MIN_PRICE</th>\n",
       "      <th>MAX_PRICE</th>\n",
       "    </tr>\n",
       "  </thead>\n",
       "  <tbody>\n",
       "    <tr>\n",
       "      <th>0</th>\n",
       "      <td>1070</td>\n",
       "      <td>0</td>\n",
       "      <td>7821</td>\n",
       "      <td>BURGER</td>\n",
       "      <td>8.0</td>\n",
       "      <td>9.6</td>\n",
       "      <td>24.6</td>\n",
       "    </tr>\n",
       "    <tr>\n",
       "      <th>1</th>\n",
       "      <td>3055</td>\n",
       "      <td>0</td>\n",
       "      <td>3052</td>\n",
       "      <td>COFFEE</td>\n",
       "      <td>1.0</td>\n",
       "      <td>1.2</td>\n",
       "      <td>16.2</td>\n",
       "    </tr>\n",
       "    <tr>\n",
       "      <th>2</th>\n",
       "      <td>3067</td>\n",
       "      <td>0</td>\n",
       "      <td>5030</td>\n",
       "      <td>COKE</td>\n",
       "      <td>3.0</td>\n",
       "      <td>3.6</td>\n",
       "      <td>18.6</td>\n",
       "    </tr>\n",
       "    <tr>\n",
       "      <th>3</th>\n",
       "      <td>3028</td>\n",
       "      <td>0</td>\n",
       "      <td>6249</td>\n",
       "      <td>LEMONADE</td>\n",
       "      <td>2.0</td>\n",
       "      <td>2.4</td>\n",
       "      <td>17.4</td>\n",
       "    </tr>\n",
       "    <tr>\n",
       "      <th>4</th>\n",
       "      <td>2051</td>\n",
       "      <td>2</td>\n",
       "      <td>7821</td>\n",
       "      <td>BURGER</td>\n",
       "      <td>6.0</td>\n",
       "      <td>7.2</td>\n",
       "      <td>22.2</td>\n",
       "    </tr>\n",
       "    <tr>\n",
       "      <th>5</th>\n",
       "      <td>2051</td>\n",
       "      <td>2</td>\n",
       "      <td>5030</td>\n",
       "      <td>COKE</td>\n",
       "      <td>8.0</td>\n",
       "      <td>9.6</td>\n",
       "      <td>24.6</td>\n",
       "    </tr>\n",
       "    <tr>\n",
       "      <th>6</th>\n",
       "      <td>2052</td>\n",
       "      <td>2</td>\n",
       "      <td>7821</td>\n",
       "      <td>BURGER</td>\n",
       "      <td>6.0</td>\n",
       "      <td>7.2</td>\n",
       "      <td>22.2</td>\n",
       "    </tr>\n",
       "    <tr>\n",
       "      <th>7</th>\n",
       "      <td>2052</td>\n",
       "      <td>2</td>\n",
       "      <td>6249</td>\n",
       "      <td>LEMONADE</td>\n",
       "      <td>7.0</td>\n",
       "      <td>8.4</td>\n",
       "      <td>23.4</td>\n",
       "    </tr>\n",
       "    <tr>\n",
       "      <th>8</th>\n",
       "      <td>2053</td>\n",
       "      <td>2</td>\n",
       "      <td>7821</td>\n",
       "      <td>BURGER</td>\n",
       "      <td>7.0</td>\n",
       "      <td>8.4</td>\n",
       "      <td>23.4</td>\n",
       "    </tr>\n",
       "    <tr>\n",
       "      <th>9</th>\n",
       "      <td>2053</td>\n",
       "      <td>2</td>\n",
       "      <td>5030</td>\n",
       "      <td>COKE</td>\n",
       "      <td>8.0</td>\n",
       "      <td>9.6</td>\n",
       "      <td>24.6</td>\n",
       "    </tr>\n",
       "    <tr>\n",
       "      <th>10</th>\n",
       "      <td>2053</td>\n",
       "      <td>2</td>\n",
       "      <td>3052</td>\n",
       "      <td>COFFEE</td>\n",
       "      <td>7.5</td>\n",
       "      <td>9.0</td>\n",
       "      <td>24.0</td>\n",
       "    </tr>\n",
       "  </tbody>\n",
       "</table>\n",
       "</div>"
      ],
      "text/plain": [
       "    SELL_ID  SELL_CATEGORY  ITEM_ID ITEM_NAME  COSTS  MIN_PRICE  MAX_PRICE\n",
       "0      1070              0     7821    BURGER    8.0        9.6       24.6\n",
       "1      3055              0     3052    COFFEE    1.0        1.2       16.2\n",
       "2      3067              0     5030      COKE    3.0        3.6       18.6\n",
       "3      3028              0     6249  LEMONADE    2.0        2.4       17.4\n",
       "4      2051              2     7821    BURGER    6.0        7.2       22.2\n",
       "5      2051              2     5030      COKE    8.0        9.6       24.6\n",
       "6      2052              2     7821    BURGER    6.0        7.2       22.2\n",
       "7      2052              2     6249  LEMONADE    7.0        8.4       23.4\n",
       "8      2053              2     7821    BURGER    7.0        8.4       23.4\n",
       "9      2053              2     5030      COKE    8.0        9.6       24.6\n",
       "10     2053              2     3052    COFFEE    7.5        9.0       24.0"
      ]
     },
     "execution_count": 4,
     "metadata": {},
     "output_type": "execute_result"
    }
   ],
   "source": [
    "category_data"
   ]
  },
  {
   "cell_type": "code",
   "execution_count": 5,
   "id": "1e23668f",
   "metadata": {},
   "outputs": [
    {
     "data": {
      "text/html": [
       "<div>\n",
       "<style scoped>\n",
       "    .dataframe tbody tr th:only-of-type {\n",
       "        vertical-align: middle;\n",
       "    }\n",
       "\n",
       "    .dataframe tbody tr th {\n",
       "        vertical-align: top;\n",
       "    }\n",
       "\n",
       "    .dataframe thead th {\n",
       "        text-align: right;\n",
       "    }\n",
       "</style>\n",
       "<table border=\"1\" class=\"dataframe\">\n",
       "  <thead>\n",
       "    <tr style=\"text-align: right;\">\n",
       "      <th></th>\n",
       "      <th>STORE</th>\n",
       "      <th>CALENDAR_DATE</th>\n",
       "      <th>PRICE</th>\n",
       "      <th>QUANTITY</th>\n",
       "      <th>SELL_ID</th>\n",
       "      <th>SELL_CATEGORY</th>\n",
       "    </tr>\n",
       "  </thead>\n",
       "  <tbody>\n",
       "    <tr>\n",
       "      <th>0</th>\n",
       "      <td>1</td>\n",
       "      <td>1/1/12</td>\n",
       "      <td>15.50</td>\n",
       "      <td>46</td>\n",
       "      <td>1070</td>\n",
       "      <td>0</td>\n",
       "    </tr>\n",
       "    <tr>\n",
       "      <th>1</th>\n",
       "      <td>1</td>\n",
       "      <td>1/1/12</td>\n",
       "      <td>12.73</td>\n",
       "      <td>22</td>\n",
       "      <td>2051</td>\n",
       "      <td>2</td>\n",
       "    </tr>\n",
       "    <tr>\n",
       "      <th>2</th>\n",
       "      <td>1</td>\n",
       "      <td>1/1/12</td>\n",
       "      <td>12.75</td>\n",
       "      <td>18</td>\n",
       "      <td>2052</td>\n",
       "      <td>2</td>\n",
       "    </tr>\n",
       "    <tr>\n",
       "      <th>3</th>\n",
       "      <td>1</td>\n",
       "      <td>1/1/12</td>\n",
       "      <td>12.60</td>\n",
       "      <td>30</td>\n",
       "      <td>2053</td>\n",
       "      <td>2</td>\n",
       "    </tr>\n",
       "    <tr>\n",
       "      <th>4</th>\n",
       "      <td>1</td>\n",
       "      <td>1/2/12</td>\n",
       "      <td>15.50</td>\n",
       "      <td>70</td>\n",
       "      <td>1070</td>\n",
       "      <td>0</td>\n",
       "    </tr>\n",
       "  </tbody>\n",
       "</table>\n",
       "</div>"
      ],
      "text/plain": [
       "   STORE CALENDAR_DATE  PRICE  QUANTITY  SELL_ID  SELL_CATEGORY\n",
       "0      1        1/1/12  15.50        46     1070              0\n",
       "1      1        1/1/12  12.73        22     2051              2\n",
       "2      1        1/1/12  12.75        18     2052              2\n",
       "3      1        1/1/12  12.60        30     2053              2\n",
       "4      1        1/2/12  15.50        70     1070              0"
      ]
     },
     "execution_count": 5,
     "metadata": {},
     "output_type": "execute_result"
    }
   ],
   "source": [
    "transactions_data.head()"
   ]
  },
  {
   "cell_type": "code",
   "execution_count": 6,
   "id": "3554f3f0",
   "metadata": {},
   "outputs": [
    {
     "data": {
      "text/html": [
       "<div>\n",
       "<style scoped>\n",
       "    .dataframe tbody tr th:only-of-type {\n",
       "        vertical-align: middle;\n",
       "    }\n",
       "\n",
       "    .dataframe tbody tr th {\n",
       "        vertical-align: top;\n",
       "    }\n",
       "\n",
       "    .dataframe thead th {\n",
       "        text-align: right;\n",
       "    }\n",
       "</style>\n",
       "<table border=\"1\" class=\"dataframe\">\n",
       "  <thead>\n",
       "    <tr style=\"text-align: right;\">\n",
       "      <th></th>\n",
       "      <th>STORE</th>\n",
       "      <th>CALENDAR_DATE</th>\n",
       "      <th>PRICE</th>\n",
       "      <th>QUANTITY</th>\n",
       "      <th>SELL_ID</th>\n",
       "      <th>SELL_CATEGORY</th>\n",
       "    </tr>\n",
       "  </thead>\n",
       "  <tbody>\n",
       "  </tbody>\n",
       "</table>\n",
       "</div>"
      ],
      "text/plain": [
       "Empty DataFrame\n",
       "Columns: [STORE, CALENDAR_DATE, PRICE, QUANTITY, SELL_ID, SELL_CATEGORY]\n",
       "Index: []"
      ]
     },
     "execution_count": 6,
     "metadata": {},
     "output_type": "execute_result"
    }
   ],
   "source": [
    "# check for null values and also duplicates\n",
    "transactions_data[transactions_data.isnull().any(axis=1)]"
   ]
  },
  {
   "cell_type": "code",
   "execution_count": 7,
   "id": "e7060918",
   "metadata": {},
   "outputs": [
    {
     "data": {
      "text/html": [
       "<div>\n",
       "<style scoped>\n",
       "    .dataframe tbody tr th:only-of-type {\n",
       "        vertical-align: middle;\n",
       "    }\n",
       "\n",
       "    .dataframe tbody tr th {\n",
       "        vertical-align: top;\n",
       "    }\n",
       "\n",
       "    .dataframe thead th {\n",
       "        text-align: right;\n",
       "    }\n",
       "</style>\n",
       "<table border=\"1\" class=\"dataframe\">\n",
       "  <thead>\n",
       "    <tr style=\"text-align: right;\">\n",
       "      <th></th>\n",
       "      <th>STORE</th>\n",
       "      <th>CALENDAR_DATE</th>\n",
       "      <th>PRICE</th>\n",
       "      <th>QUANTITY</th>\n",
       "      <th>SELL_ID</th>\n",
       "      <th>SELL_CATEGORY</th>\n",
       "    </tr>\n",
       "  </thead>\n",
       "  <tbody>\n",
       "    <tr>\n",
       "      <th>1704</th>\n",
       "      <td>1</td>\n",
       "      <td>3/1/13</td>\n",
       "      <td>15.50</td>\n",
       "      <td>90</td>\n",
       "      <td>1070</td>\n",
       "      <td>0</td>\n",
       "    </tr>\n",
       "    <tr>\n",
       "      <th>1710</th>\n",
       "      <td>1</td>\n",
       "      <td>3/1/13</td>\n",
       "      <td>13.41</td>\n",
       "      <td>40</td>\n",
       "      <td>2052</td>\n",
       "      <td>2</td>\n",
       "    </tr>\n",
       "    <tr>\n",
       "      <th>1711</th>\n",
       "      <td>1</td>\n",
       "      <td>3/1/13</td>\n",
       "      <td>13.41</td>\n",
       "      <td>40</td>\n",
       "      <td>2053</td>\n",
       "      <td>2</td>\n",
       "    </tr>\n",
       "  </tbody>\n",
       "</table>\n",
       "</div>"
      ],
      "text/plain": [
       "      STORE CALENDAR_DATE  PRICE  QUANTITY  SELL_ID  SELL_CATEGORY\n",
       "1704      1        3/1/13  15.50        90     1070              0\n",
       "1710      1        3/1/13  13.41        40     2052              2\n",
       "1711      1        3/1/13  13.41        40     2053              2"
      ]
     },
     "execution_count": 7,
     "metadata": {},
     "output_type": "execute_result"
    }
   ],
   "source": [
    "transactions_data[transactions_data.duplicated()]"
   ]
  },
  {
   "cell_type": "code",
   "execution_count": 8,
   "id": "4febe226",
   "metadata": {},
   "outputs": [],
   "source": [
    "# remove duplicates\n",
    "transactions_data = transactions_data.drop_duplicates()"
   ]
  },
  {
   "cell_type": "code",
   "execution_count": 9,
   "id": "d73c771a",
   "metadata": {},
   "outputs": [],
   "source": [
    "# merge category data with sales data\n",
    "data = pd.merge(category_data, transactions_data.drop(columns=[\"SELL_CATEGORY\"]), on=\"SELL_ID\")"
   ]
  },
  {
   "cell_type": "code",
   "execution_count": 10,
   "id": "e9b8cec5",
   "metadata": {},
   "outputs": [
    {
     "data": {
      "text/html": [
       "<div>\n",
       "<style scoped>\n",
       "    .dataframe tbody tr th:only-of-type {\n",
       "        vertical-align: middle;\n",
       "    }\n",
       "\n",
       "    .dataframe tbody tr th {\n",
       "        vertical-align: top;\n",
       "    }\n",
       "\n",
       "    .dataframe thead th {\n",
       "        text-align: right;\n",
       "    }\n",
       "</style>\n",
       "<table border=\"1\" class=\"dataframe\">\n",
       "  <thead>\n",
       "    <tr style=\"text-align: right;\">\n",
       "      <th></th>\n",
       "      <th>SELL_ID</th>\n",
       "      <th>SELL_CATEGORY</th>\n",
       "      <th>ITEM_ID</th>\n",
       "      <th>ITEM_NAME</th>\n",
       "      <th>COSTS</th>\n",
       "      <th>MIN_PRICE</th>\n",
       "      <th>MAX_PRICE</th>\n",
       "      <th>STORE</th>\n",
       "      <th>CALENDAR_DATE</th>\n",
       "      <th>PRICE</th>\n",
       "      <th>QUANTITY</th>\n",
       "    </tr>\n",
       "  </thead>\n",
       "  <tbody>\n",
       "    <tr>\n",
       "      <th>0</th>\n",
       "      <td>1070</td>\n",
       "      <td>0</td>\n",
       "      <td>7821</td>\n",
       "      <td>BURGER</td>\n",
       "      <td>8.0</td>\n",
       "      <td>9.6</td>\n",
       "      <td>24.6</td>\n",
       "      <td>1</td>\n",
       "      <td>1/1/12</td>\n",
       "      <td>15.5</td>\n",
       "      <td>46</td>\n",
       "    </tr>\n",
       "    <tr>\n",
       "      <th>1</th>\n",
       "      <td>1070</td>\n",
       "      <td>0</td>\n",
       "      <td>7821</td>\n",
       "      <td>BURGER</td>\n",
       "      <td>8.0</td>\n",
       "      <td>9.6</td>\n",
       "      <td>24.6</td>\n",
       "      <td>1</td>\n",
       "      <td>1/2/12</td>\n",
       "      <td>15.5</td>\n",
       "      <td>70</td>\n",
       "    </tr>\n",
       "    <tr>\n",
       "      <th>2</th>\n",
       "      <td>1070</td>\n",
       "      <td>0</td>\n",
       "      <td>7821</td>\n",
       "      <td>BURGER</td>\n",
       "      <td>8.0</td>\n",
       "      <td>9.6</td>\n",
       "      <td>24.6</td>\n",
       "      <td>1</td>\n",
       "      <td>1/3/12</td>\n",
       "      <td>15.5</td>\n",
       "      <td>62</td>\n",
       "    </tr>\n",
       "    <tr>\n",
       "      <th>3</th>\n",
       "      <td>1070</td>\n",
       "      <td>0</td>\n",
       "      <td>7821</td>\n",
       "      <td>BURGER</td>\n",
       "      <td>8.0</td>\n",
       "      <td>9.6</td>\n",
       "      <td>24.6</td>\n",
       "      <td>1</td>\n",
       "      <td>1/4/12</td>\n",
       "      <td>15.5</td>\n",
       "      <td>88</td>\n",
       "    </tr>\n",
       "    <tr>\n",
       "      <th>4</th>\n",
       "      <td>1070</td>\n",
       "      <td>0</td>\n",
       "      <td>7821</td>\n",
       "      <td>BURGER</td>\n",
       "      <td>8.0</td>\n",
       "      <td>9.6</td>\n",
       "      <td>24.6</td>\n",
       "      <td>1</td>\n",
       "      <td>1/5/12</td>\n",
       "      <td>15.5</td>\n",
       "      <td>104</td>\n",
       "    </tr>\n",
       "  </tbody>\n",
       "</table>\n",
       "</div>"
      ],
      "text/plain": [
       "   SELL_ID  SELL_CATEGORY  ITEM_ID ITEM_NAME  COSTS  MIN_PRICE  MAX_PRICE  \\\n",
       "0     1070              0     7821    BURGER    8.0        9.6       24.6   \n",
       "1     1070              0     7821    BURGER    8.0        9.6       24.6   \n",
       "2     1070              0     7821    BURGER    8.0        9.6       24.6   \n",
       "3     1070              0     7821    BURGER    8.0        9.6       24.6   \n",
       "4     1070              0     7821    BURGER    8.0        9.6       24.6   \n",
       "\n",
       "   STORE CALENDAR_DATE  PRICE  QUANTITY  \n",
       "0      1        1/1/12   15.5        46  \n",
       "1      1        1/2/12   15.5        70  \n",
       "2      1        1/3/12   15.5        62  \n",
       "3      1        1/4/12   15.5        88  \n",
       "4      1        1/5/12   15.5       104  "
      ]
     },
     "execution_count": 10,
     "metadata": {},
     "output_type": "execute_result"
    }
   ],
   "source": [
    "data.head()"
   ]
  },
  {
   "cell_type": "code",
   "execution_count": 11,
   "id": "9bfee2bb",
   "metadata": {},
   "outputs": [],
   "source": [
    "# need to group it as we have multiples transactions per day for each SELL_ID\n",
    "cleaned_data = data.groupby([\"SELL_ID\", \"SELL_CATEGORY\", \"ITEM_NAME\", \"CALENDAR_DATE\", \"PRICE\", \"COSTS\"]).QUANTITY.sum()\n",
    "cleaned_data = cleaned_data.reset_index()"
   ]
  },
  {
   "cell_type": "markdown",
   "id": "8216a3cf",
   "metadata": {},
   "source": [
    "## Find model elasticity for one SELL_ID first, in this case we take \"1070\""
   ]
  },
  {
   "cell_type": "code",
   "execution_count": 12,
   "id": "6cea178d",
   "metadata": {},
   "outputs": [],
   "source": [
    "burger_1070 = cleaned_data[cleaned_data[\"SELL_ID\"] == 1070]"
   ]
  },
  {
   "cell_type": "code",
   "execution_count": 13,
   "id": "0d642cb7",
   "metadata": {},
   "outputs": [],
   "source": [
    "burger_1070_model = ols(\"QUANTITY ~ PRICE\", data=burger_1070).fit()"
   ]
  },
  {
   "cell_type": "code",
   "execution_count": 14,
   "id": "cc897abe",
   "metadata": {},
   "outputs": [
    {
     "name": "stdout",
     "output_type": "stream",
     "text": [
      "                            OLS Regression Results                            \n",
      "==============================================================================\n",
      "Dep. Variable:               QUANTITY   R-squared:                       0.116\n",
      "Model:                            OLS   Adj. R-squared:                  0.116\n",
      "Method:                 Least Squares   F-statistic:                     177.1\n",
      "Date:                Sun, 02 Oct 2022   Prob (F-statistic):           4.76e-38\n",
      "Time:                        16:42:54   Log-Likelihood:                -5606.2\n",
      "No. Observations:                1349   AIC:                         1.122e+04\n",
      "Df Residuals:                    1347   BIC:                         1.123e+04\n",
      "Df Model:                           1                                         \n",
      "Covariance Type:            nonrobust                                         \n",
      "==============================================================================\n",
      "                 coef    std err          t      P>|t|      [0.025      0.975]\n",
      "------------------------------------------------------------------------------\n",
      "Intercept    194.8558      8.533     22.836      0.000     178.117     211.595\n",
      "PRICE         -7.4781      0.562    -13.307      0.000      -8.581      -6.376\n",
      "==============================================================================\n",
      "Omnibus:                       55.371   Durbin-Watson:                   1.660\n",
      "Prob(Omnibus):                  0.000   Jarque-Bera (JB):               48.005\n",
      "Skew:                          -0.394   Prob(JB):                     3.77e-11\n",
      "Kurtosis:                       2.519   Cond. No.                         309.\n",
      "==============================================================================\n",
      "\n",
      "Notes:\n",
      "[1] Standard Errors assume that the covariance matrix of the errors is correctly specified.\n"
     ]
    }
   ],
   "source": [
    "# we can see that elasticity is around -7, the R-squared is pretty low\n",
    "# this is a not a very good model but also not the goal of this notebook\n",
    "print(burger_1070_model.summary())"
   ]
  },
  {
   "cell_type": "code",
   "execution_count": 15,
   "id": "b219500f",
   "metadata": {},
   "outputs": [
    {
     "name": "stdout",
     "output_type": "stream",
     "text": [
      "eval_env: 1\n",
      "eval_env: 1\n"
     ]
    },
    {
     "data": {
      "image/png": "[encoded data removed]",
      "text/plain": [
       "<Figure size 640x480 with 2 Axes>"
      ]
     },
     "execution_count": 15,
     "metadata": {},
     "output_type": "execute_result"
    },
    {
     "data": {
      "image/png": "[encoded data removed]",
      "text/plain": [
       "<Figure size 640x480 with 2 Axes>"
      ]
     },
     "metadata": {},
     "output_type": "display_data"
    }
   ],
   "source": [
    "plot_partregress_grid(burger_1070_model)"
   ]
  },
  {
   "cell_type": "markdown",
   "id": "88600701",
   "metadata": {},
   "source": [
    "## Find elasticities for all combinations"
   ]
  },
  {
   "cell_type": "code",
   "execution_count": 16,
   "id": "3b1deb92",
   "metadata": {},
   "outputs": [],
   "source": [
    "model_elasticity = {}"
   ]
  },
  {
   "cell_type": "code",
   "execution_count": 17,
   "id": "fc15465a",
   "metadata": {},
   "outputs": [],
   "source": [
    "def create_model_and_find_elasticity(data):\n",
    "    model = ols(\"QUANTITY ~ PRICE\", data).fit()\n",
    "    price_elasticity = model.params[1]\n",
    "    return price_elasticity, model"
   ]
  },
  {
   "cell_type": "code",
   "execution_count": 18,
   "id": "1538e2e7",
   "metadata": {},
   "outputs": [],
   "source": [
    "for i, df in cleaned_data.groupby([\"SELL_ID\", \"ITEM_NAME\"]):\n",
    "    e, model = create_model_and_find_elasticity(df)\n",
    "    model_elasticity[i] = (e, model)"
   ]
  },
  {
   "cell_type": "code",
   "execution_count": 19,
   "id": "1e797a3a",
   "metadata": {},
   "outputs": [
    {
     "data": {
      "text/plain": [
       "{(1070, 'BURGER'): (-7.478107135366496,\n",
       "  <statsmodels.regression.linear_model.RegressionResultsWrapper at 0x7fd4fad3af40>),\n",
       " (2051, 'BURGER'): (-1.9128005756803146,\n",
       "  <statsmodels.regression.linear_model.RegressionResultsWrapper at 0x7fd4faa1c8e0>),\n",
       " (2051, 'COKE'): (-1.9128005756803146,\n",
       "  <statsmodels.regression.linear_model.RegressionResultsWrapper at 0x7fd4fae2af40>),\n",
       " (2052, 'BURGER'): (-2.271811473474679,\n",
       "  <statsmodels.regression.linear_model.RegressionResultsWrapper at 0x7fd4fae32be0>),\n",
       " (2052, 'LEMONADE'): (-2.271811473474679,\n",
       "  <statsmodels.regression.linear_model.RegressionResultsWrapper at 0x7fd4fae32490>),\n",
       " (2053, 'BURGER'): (-5.226102393167906,\n",
       "  <statsmodels.regression.linear_model.RegressionResultsWrapper at 0x7fd4fae39490>),\n",
       " (2053, 'COFFEE'): (-5.226102393167906,\n",
       "  <statsmodels.regression.linear_model.RegressionResultsWrapper at 0x7fd4fae40e20>),\n",
       " (2053, 'COKE'): (-5.226102393167906,\n",
       "  <statsmodels.regression.linear_model.RegressionResultsWrapper at 0x7fd4fae47850>)}"
      ]
     },
     "execution_count": 19,
     "metadata": {},
     "output_type": "execute_result"
    }
   ],
   "source": [
    "# all elasticities are negative, this is good\n",
    "model_elasticity"
   ]
  },
  {
   "cell_type": "markdown",
   "id": "451e0baa",
   "metadata": {},
   "source": [
    "## Now let's find the optimal price where maximum profit is the highest first, for SELL_ID 1070"
   ]
  },
  {
   "cell_type": "code",
   "execution_count": 20,
   "id": "112af85f",
   "metadata": {},
   "outputs": [],
   "source": [
    "burger_1070 = cleaned_data[cleaned_data[\"SELL_ID\"] == 1070]"
   ]
  },
  {
   "cell_type": "code",
   "execution_count": 21,
   "id": "bcb33dfd",
   "metadata": {},
   "outputs": [
    {
     "data": {
      "text/plain": [
       "(12.64, 16.5, 8.0)"
      ]
     },
     "execution_count": 21,
     "metadata": {},
     "output_type": "execute_result"
    }
   ],
   "source": [
    "burger_1070.PRICE.min(), burger_1070.PRICE.max(), burger_1070.COSTS.unique()[0]"
   ]
  },
  {
   "cell_type": "code",
   "execution_count": 22,
   "id": "6d9d0a93",
   "metadata": {},
   "outputs": [],
   "source": [
    "start_price = 8.5\n",
    "end_price = 25"
   ]
  },
  {
   "cell_type": "code",
   "execution_count": 23,
   "id": "aa2b57a0",
   "metadata": {},
   "outputs": [],
   "source": [
    "opt_price_table = pd.DataFrame(columns = [\"PRICE\", \"QUANTITY\"])\n",
    "opt_price_table[\"PRICE\"] = np.arange(start_price, end_price, 0.01)\n",
    "opt_price_table[\"QUANTITY\"] = model_elasticity[(1070, \"BURGER\")][1].predict(opt_price_table[\"PRICE\"])\n",
    "opt_price_table[\"PROFIT\"] = (opt_price_table[\"PRICE\"] - burger_1070.COSTS.unique()[0]) * opt_price_table[\"QUANTITY\"]"
   ]
  },
  {
   "cell_type": "code",
   "execution_count": 24,
   "id": "b49b16b6",
   "metadata": {},
   "outputs": [
    {
     "data": {
      "text/plain": [
       "<AxesSubplot: xlabel='PRICE'>"
      ]
     },
     "execution_count": 24,
     "metadata": {},
     "output_type": "execute_result"
    },
    {
     "data": {
      "image/png": "[encoded data removed]",
      "text/plain": [
       "<Figure size 640x480 with 1 Axes>"
      ]
     },
     "metadata": {},
     "output_type": "display_data"
    }
   ],
   "source": [
    "opt_price_table.plot(\"PRICE\", \"PROFIT\")"
   ]
  },
  {
   "cell_type": "code",
   "execution_count": 25,
   "id": "9661debc",
   "metadata": {},
   "outputs": [
    {
     "data": {
      "text/html": [
       "<div>\n",
       "<style scoped>\n",
       "    .dataframe tbody tr th:only-of-type {\n",
       "        vertical-align: middle;\n",
       "    }\n",
       "\n",
       "    .dataframe tbody tr th {\n",
       "        vertical-align: top;\n",
       "    }\n",
       "\n",
       "    .dataframe thead th {\n",
       "        text-align: right;\n",
       "    }\n",
       "</style>\n",
       "<table border=\"1\" class=\"dataframe\">\n",
       "  <thead>\n",
       "    <tr style=\"text-align: right;\">\n",
       "      <th></th>\n",
       "      <th>PRICE</th>\n",
       "      <th>QUANTITY</th>\n",
       "      <th>PROFIT</th>\n",
       "    </tr>\n",
       "  </thead>\n",
       "  <tbody>\n",
       "    <tr>\n",
       "      <th>853</th>\n",
       "      <td>17.03</td>\n",
       "      <td>67.503598</td>\n",
       "      <td>609.55749</td>\n",
       "    </tr>\n",
       "  </tbody>\n",
       "</table>\n",
       "</div>"
      ],
      "text/plain": [
       "     PRICE   QUANTITY     PROFIT\n",
       "853  17.03  67.503598  609.55749"
      ]
     },
     "execution_count": 25,
     "metadata": {},
     "output_type": "execute_result"
    }
   ],
   "source": [
    "# we can see that the optimal price is at 17.03\n",
    "ind = np.where(opt_price_table[\"PROFIT\"] == opt_price_table[\"PROFIT\"].max())[0][0]\n",
    "opt_price_table.loc[[ind]]"
   ]
  },
  {
   "cell_type": "markdown",
   "id": "c82267cf",
   "metadata": {},
   "source": [
    "## Find the optimal price for all products"
   ]
  },
  {
   "cell_type": "code",
   "execution_count": 26,
   "id": "056bb245",
   "metadata": {},
   "outputs": [],
   "source": [
    "def find_optimal_price(data, model):\n",
    "    start_price = data[\"COSTS\"].unique()[0] + 0.5\n",
    "    end_price = data[\"COSTS\"].unique()[0] + 20\n",
    "    opt_price_table = pd.DataFrame(columns = [\"PRICE\", \"QUANTITY\"])\n",
    "    opt_price_table[\"PRICE\"] = np.arange(start_price, end_price, 0.01)\n",
    "    opt_price_table[\"QUANTITY\"] = model.predict(opt_price_table[\"PRICE\"])\n",
    "    opt_price_table[\"PROFIT\"] = (opt_price_table[\"PRICE\"] - data[\"COSTS\"].unique()[0]) * opt_price_table[\"QUANTITY\"]\n",
    "    ind = np.where(opt_price_table[\"PROFIT\"] == opt_price_table[\"PROFIT\"].max())[0][0]\n",
    "    opt_price_table[\"SELL_ID\"] = data[\"SELL_ID\"].unique()[0]\n",
    "    opt_price_table[\"ITEM_NAME\"] =  data[\"ITEM_NAME\"].unique()[0]\n",
    "    optimal_price = opt_price_table.loc[[ind]]\n",
    "    optimal_price = optimal_price[[\"SELL_ID\", \"ITEM_NAME\", \"PRICE\"]].rename(columns={\"PRICE\": \"ML_PRICE\"})\n",
    "    return optimal_price"
   ]
  },
  {
   "cell_type": "code",
   "execution_count": 27,
   "id": "74b37368",
   "metadata": {
    "scrolled": true
   },
   "outputs": [],
   "source": [
    "optimal_prices = []\n",
    "for i, df in cleaned_data.groupby([\"SELL_ID\", \"ITEM_NAME\"]):\n",
    "    ml_price = find_optimal_price(df, model_elasticity[i][1])\n",
    "    optimal_prices.append(ml_price)"
   ]
  },
  {
   "cell_type": "code",
   "execution_count": 28,
   "id": "dc46bb90",
   "metadata": {},
   "outputs": [],
   "source": [
    "optimal_prices_output = pd.concat(optimal_prices)\n",
    "optimal_prices_output[\"RUN_TS\"] = now = datetime.now()"
   ]
  },
  {
   "cell_type": "code",
   "execution_count": 29,
   "id": "b0172119",
   "metadata": {},
   "outputs": [
    {
     "data": {
      "text/html": [
       "<div>\n",
       "<style scoped>\n",
       "    .dataframe tbody tr th:only-of-type {\n",
       "        vertical-align: middle;\n",
       "    }\n",
       "\n",
       "    .dataframe tbody tr th {\n",
       "        vertical-align: top;\n",
       "    }\n",
       "\n",
       "    .dataframe thead th {\n",
       "        text-align: right;\n",
       "    }\n",
       "</style>\n",
       "<table border=\"1\" class=\"dataframe\">\n",
       "  <thead>\n",
       "    <tr style=\"text-align: right;\">\n",
       "      <th></th>\n",
       "      <th>SELL_ID</th>\n",
       "      <th>ITEM_NAME</th>\n",
       "      <th>ML_PRICE</th>\n",
       "      <th>RUN_TS</th>\n",
       "    </tr>\n",
       "  </thead>\n",
       "  <tbody>\n",
       "    <tr>\n",
       "      <th>853</th>\n",
       "      <td>1070</td>\n",
       "      <td>BURGER</td>\n",
       "      <td>17.03</td>\n",
       "      <td>2022-10-02 16:42:55.323189</td>\n",
       "    </tr>\n",
       "    <tr>\n",
       "      <th>1032</th>\n",
       "      <td>2051</td>\n",
       "      <td>BURGER</td>\n",
       "      <td>16.82</td>\n",
       "      <td>2022-10-02 16:42:55.323189</td>\n",
       "    </tr>\n",
       "    <tr>\n",
       "      <th>932</th>\n",
       "      <td>2051</td>\n",
       "      <td>COKE</td>\n",
       "      <td>17.82</td>\n",
       "      <td>2022-10-02 16:42:55.323189</td>\n",
       "    </tr>\n",
       "    <tr>\n",
       "      <th>705</th>\n",
       "      <td>2052</td>\n",
       "      <td>BURGER</td>\n",
       "      <td>13.55</td>\n",
       "      <td>2022-10-02 16:42:55.323189</td>\n",
       "    </tr>\n",
       "    <tr>\n",
       "      <th>655</th>\n",
       "      <td>2052</td>\n",
       "      <td>LEMONADE</td>\n",
       "      <td>14.05</td>\n",
       "      <td>2022-10-02 16:42:55.323189</td>\n",
       "    </tr>\n",
       "    <tr>\n",
       "      <th>638</th>\n",
       "      <td>2053</td>\n",
       "      <td>BURGER</td>\n",
       "      <td>13.88</td>\n",
       "      <td>2022-10-02 16:42:55.323189</td>\n",
       "    </tr>\n",
       "    <tr>\n",
       "      <th>613</th>\n",
       "      <td>2053</td>\n",
       "      <td>COFFEE</td>\n",
       "      <td>14.13</td>\n",
       "      <td>2022-10-02 16:42:55.323189</td>\n",
       "    </tr>\n",
       "    <tr>\n",
       "      <th>588</th>\n",
       "      <td>2053</td>\n",
       "      <td>COKE</td>\n",
       "      <td>14.38</td>\n",
       "      <td>2022-10-02 16:42:55.323189</td>\n",
       "    </tr>\n",
       "  </tbody>\n",
       "</table>\n",
       "</div>"
      ],
      "text/plain": [
       "      SELL_ID ITEM_NAME  ML_PRICE                     RUN_TS\n",
       "853      1070    BURGER     17.03 2022-10-02 16:42:55.323189\n",
       "1032     2051    BURGER     16.82 2022-10-02 16:42:55.323189\n",
       "932      2051      COKE     17.82 2022-10-02 16:42:55.323189\n",
       "705      2052    BURGER     13.55 2022-10-02 16:42:55.323189\n",
       "655      2052  LEMONADE     14.05 2022-10-02 16:42:55.323189\n",
       "638      2053    BURGER     13.88 2022-10-02 16:42:55.323189\n",
       "613      2053    COFFEE     14.13 2022-10-02 16:42:55.323189\n",
       "588      2053      COKE     14.38 2022-10-02 16:42:55.323189"
      ]
     },
     "execution_count": 29,
     "metadata": {},
     "output_type": "execute_result"
    }
   ],
   "source": [
    "optimal_prices_output"
   ]
  },
  {
   "cell_type": "markdown",
   "id": "2f8c8017",
   "metadata": {},
   "source": [
    "## Now export our output to nocode"
   ]
  },
  {
   "cell_type": "code",
   "execution_count": 30,
   "id": "8c72cf0b",
   "metadata": {},
   "outputs": [
    {
     "name": "stdout",
     "output_type": "stream",
     "text": [
      "Upload Successful, please wait a moment for the changes to appear\n"
     ]
    }
   ],
   "source": [
    "to_nocode(optimal_prices_output, \"optimal_prices_output\", configuration, mode=\"replace_data\")"
   ]
  }
 ],
 "metadata": {
  "kernelspec": {
   "display_name": "Python 3 (ipykernel)",
   "language": "python",
   "name": "python3"
  },
  "language_info": {
   "codemirror_mode": {
    "name": "ipython",
    "version": 3
   },
   "file_extension": ".py",
   "mimetype": "text/x-python",
   "name": "python",
   "nbconvert_exporter": "python",
   "pygments_lexer": "ipython3",
   "version": "3.8.13"
  }
 },
 "nbformat": 4,
 "nbformat_minor": 5
}
